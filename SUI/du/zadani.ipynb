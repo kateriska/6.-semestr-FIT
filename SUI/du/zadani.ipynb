{
 "cells": [
  {
   "cell_type": "markdown",
   "metadata": {},
   "source": [
    "Vítejte u domácí úlohy do SUI.\n",
    "V rámci úlohy Vás čeká několik cvičení, v nichž budete doplňovat poměrně malé fragmenty kódu, místo na ně je vyznačené jako `pass` nebo `None`.\n",
    "Pokud se v buňce s kódem již něco nachází, využijte/neničte to.\n",
    "V dvou případech se očekává textová odpověď, tu uvedete přímo do zadávající buňky.\n",
    "Buňky nerušte ani nepřidávejte.\n",
    "\n",
    "Maximálně využívejte `numpy` a `torch` pro hromadné operace na celých polích.\n",
    "S výjimkou generátoru minibatchí by se nikde neměl objevit cyklus jdoucí přes jednotlivé příklady.\n",
    "\n",
    "U všech cvičení je uveden počet bodů za funkční implementaci a orientační počet potřebných řádků.\n",
    "Berte ho prosím opravdu jako orientační, pozornost mu věnujte pouze, pokud ho významně překračujete.\n",
    "Mnoho zdaru!"
   ]
  },
  {
   "cell_type": "markdown",
   "metadata": {},
   "source": [
    "# Informace o vzniku řešení\n",
    "Vyplňte následující údaje **(3 údaje, 0 bodů)**\n",
    "\n",
    "* Jméno autora: Katerina Fortova\n",
    "* Login autora: xforto00\n",
    "* Datum vzniku: 21. 10. 2020"
   ]
  },
  {
   "cell_type": "code",
   "execution_count": 3,
   "metadata": {},
   "outputs": [],
   "source": [
    "import numpy as np\n",
    "import copy\n",
    "import matplotlib.pyplot as plt\n",
    "import scipy.stats"
   ]
  },
  {
   "cell_type": "markdown",
   "metadata": {},
   "source": [
    "# Přípravné práce\n",
    "Prvním úkolem v této domácí úloze je načíst data, s nimiž budete pracovat.\n",
    "Vybudujte jednoduchou třídu, která se umí zkonstruovat z cesty k negativním a pozitivním příkladům, a bude poskytovat:\n",
    "- pozitivní a negativní příklady (`dataset.pos`, `dataset.neg` o rozměrech [N, 7])\n",
    "- všechny příklady a odpovídající třídy (`dataset.xs` o rozměru [N, 7], `dataset.targets` o rozměru [N])\n",
    "\n",
    "K načítání dat doporučujeme využít `np.loadtxt()`.\n",
    "Netrapte se se zapouzdřování a gettery, berte třídu jako Plain Old Data.\n",
    "\n",
    "Načtěte trénovací (`{positives,negatives}.trn`), validační (`{positives,negatives}.val`) a testovací (`{positives,negatives}.tst`) dataset, pojmenujte je po řadě (`train_dataset`, `val_dataset`, `test_dataset`). \n",
    "\n",
    "**(6+3 řádků, 1 bod)** \n"
   ]
  },
  {
   "cell_type": "code",
   "execution_count": 52,
   "metadata": {},
   "outputs": [
    {
     "name": "stdout",
     "output_type": "stream",
     "text": [
      "positives (2280, 7)\n",
      "negatives (6841, 7)\n",
      "xs (9121, 7)\n",
      "targets (9121,)\n"
     ]
    }
   ],
   "source": [
    "class dataset:\n",
    "    def __init__(self, dataset):\n",
    "        self.pos = np.loadtxt(\"positives.\" + dataset)\n",
    "        self.neg = np.loadtxt(\"negatives.\" + dataset)\n",
    "        \n",
    "        self.xs = np.concatenate((self.pos, self.neg))\n",
    "        self.xs_rows = np.shape(self.xs)[0]\n",
    "        #print(self.xs_rows)\n",
    "        \n",
    "        self.pos_target = np.full((np.shape(self.pos)[0],),1)\n",
    "        self.neg_target = np.full((np.shape(self.neg)[0],),0)\n",
    "        self.targets = np.concatenate((self.pos_target, self.neg_target))\n",
    "        #print(self.targets)\n",
    "        \n",
    "        #self.targets = self.targets.ravel()\n",
    "        \n",
    "train_dataset = dataset(\"trn\")\n",
    "val_dataset = dataset(\"val\")\n",
    "test_dataset = dataset(\"tst\")\n",
    "\n",
    "print('positives', train_dataset.pos.shape)\n",
    "print('negatives', train_dataset.neg.shape)\n",
    "print('xs', train_dataset.xs.shape)\n",
    "print('targets', train_dataset.targets.shape)\n"
   ]
  },
  {
   "cell_type": "markdown",
   "metadata": {},
   "source": [
    "V řadě následujících cvičení budete pracovat s jedním konkrétním příznakem. Naimplementujte pro začátek funkci, která vykreslí histogram rozložení pozitivních a negativních příkladů (`plt.hist()`). Nezapomeňte na legendu, ať je v grafu jasné, které jsou které. Funkci zavolejte dvakrát, vykreslete histogram příznaku `5` -- tzn. šestého ze sedmi -- pro trénovací a validační data **(5 řádků, 1 bod)**."
   ]
  },
  {
   "cell_type": "code",
   "execution_count": 54,
   "metadata": {},
   "outputs": [
    {
     "data": {
      "image/png": "[encoded data removed]",
      "text/plain": [
       "<Figure size 360x360 with 1 Axes>"
      ]
     },
     "metadata": {
      "needs_background": "light"
     },
     "output_type": "display_data"
    },
    {
     "data": {
      "image/png": "[encoded data removed]",
      "text/plain": [
       "<Figure size 360x360 with 1 Axes>"
      ]
     },
     "metadata": {
      "needs_background": "light"
     },
     "output_type": "display_data"
    }
   ],
   "source": [
    "FOI = 5  # Feature Of Interest\n",
    "\n",
    "def plot_data(poss, negs):\n",
    "    figure = plt.figure(figsize=(5, 5))\n",
    "    graph_plot = figure.add_subplot(1,1,1)\n",
    "    graph_plot.hist(poss, density=True, histtype='step', color = \"skyblue\", label=\"positive data\")\n",
    "    graph_plot.hist(negs, density=True, histtype='step', color = \"lightcoral\", label=\"negative data\")\n",
    "    graph_plot.legend(prop={'size': 10})\n",
    "    \n",
    "\n",
    "\n",
    "plot_data(train_dataset.pos[:, FOI], train_dataset.neg[:, FOI])\n",
    "plot_data(val_dataset.pos[:, FOI], val_dataset.neg[:, FOI])"
   ]
  },
  {
   "cell_type": "markdown",
   "metadata": {},
   "source": [
    "### Evaluace klasifikátorů\n",
    "Než přistoupíte k tvorbě jednotlivých klasifikátorů, vytvořte funkci pro jejich vyhodnocování.\n",
    "Nechť se jmenuje `evaluate` a přijímá po řadě klasifikátor, pole dat (o rozměrech [N] nebo [N, F]) a pole tříd ([N]).\n",
    "Jejím výstupem bude _přesnost_, tzn. podíl správně klasifikovaných příkladů.\n",
    "\n",
    "Předpokládejte, že klasifikátor poskytuje metodu `.prob_class_1(data)`, která vrací pole posteriorních pravděpodobností třídy 1 (tj. p(y=1|x)) pro daná data.\n",
    "Evaluační funkce bude muset provést tvrdé prahování (na hodnotě 0.5) těchto pravděpodobností a srovnání získaných rozhodnutí s referenčními třídami.\n",
    "Využijte fakt, že `numpy`ovská pole lze mj. porovnávat mezi sebou i se skalárem.\n",
    "\n",
    "**(3 řádky, 1 bod)**"
   ]
  },
  {
   "cell_type": "code",
   "execution_count": 48,
   "metadata": {},
   "outputs": [
    {
     "name": "stdout",
     "output_type": "stream",
     "text": [
      "0.6666666666666666\n"
     ]
    }
   ],
   "source": [
    "def evaluate(classifier, inputs, targets):\n",
    "    classifier = Dummy()\n",
    "    dummy_result = classifier.prob_class_1(inputs)\n",
    "    k = np.where(dummy_result<0.5,0,np.where(dummy_result>=0.5,1,dummy_result))\n",
    "    matches = np.where(k==targets)\n",
    "    accuracy = np.shape(matches)[1] / np.shape(targets)[0]\n",
    "    return accuracy\n",
    "\n",
    "\n",
    "class Dummy:\n",
    "    def prob_class_1(self, xs):\n",
    "        return np.asarray([0.2, 0.7, 0.7])\n",
    "\n",
    "print(evaluate(Dummy(), None, np.asarray([0, 0, 1])))  # should be 0.66..."
   ]
  },
  {
   "cell_type": "markdown",
   "metadata": {},
   "source": [
    "### Baseline\n",
    "Vytvořte klasifikátor, který ignoruje vstupní hodnotu dat.\n",
    "Jenom v konstruktoru dostane třídu, kterou má dávat jako tip pro libovolný vstup.\n",
    "Nezapomeňte, že jeho metoda `.prob_class_1(data)` musí vracet pole správné velikosti, využijte `np.ones` nebo `np.full`.\n",
    "\n",
    "**(4 řádky, 1 bod)**"
   ]
  },
  {
   "cell_type": "code",
   "execution_count": 49,
   "metadata": {},
   "outputs": [
    {
     "name": "stdout",
     "output_type": "stream",
     "text": [
      "Baseline val acc: [0 0 0 ... 0 0 0]\n"
     ]
    }
   ],
   "source": [
    "def evaluate(classifier, inputs, targets):\n",
    "    prior_result = classifier.prob_class_1(inputs)\n",
    "    return prior_result\n",
    "\n",
    "class PriorClassifier:\n",
    "    def __init__(self, class_type):\n",
    "        self.class_type = class_type\n",
    "    def prob_class_1(self, xs):\n",
    "        self.predictions_arr = np.full((np.shape(xs)[0],),self.class_type)\n",
    "        return self.predictions_arr\n",
    "    \n",
    "\n",
    "baseline = PriorClassifier(0)\n",
    "val_acc = evaluate(baseline, val_dataset.xs[:, FOI], val_dataset.targets)\n",
    "print('Baseline val acc:', val_acc)"
   ]
  },
  {
   "cell_type": "markdown",
   "metadata": {},
   "source": [
    "# Generativní klasifikátory\n",
    "V této  části vytvoříte dva generativní klasifikátory, oba založené na Gaussovu rozložení pravděpodobnosti.\n",
    "\n",
    "Začněte implementací funce, která pro daná 1-D data vrátí Maximum Likelihood odhad střední hodnoty a směrodatné odchylky Gaussova rozložení, které data modeluje.\n",
    "Funkci využijte pro natrénovaní dvou modelů: pozitivních a negativních příkladů.\n",
    "Získané parametry -- tzn. střední hodnoty a směrodatné odchylky -- vypište.\n",
    "\n",
    "**(5 řádků, 0.5 bodu)**"
   ]
  },
  {
   "cell_type": "code",
   "execution_count": 50,
   "metadata": {},
   "outputs": [
    {
     "name": "stdout",
     "output_type": "stream",
     "text": [
      "Mean: 0.478428821613158\n",
      "Standard Deviation: 0.12971703647258465\n",
      "Mean: 0.17453641132613792\n",
      "Standard Deviation: 0.17895975196381242\n"
     ]
    }
   ],
   "source": [
    "def maximumLikelihood(inputs):\n",
    "    results = list()\n",
    "    mu, std = scipy.stats.norm.fit(inputs)\n",
    "    print(\"Mean: \" + str(mu))\n",
    "    print(\"Standard Deviation: \" + str(std))\n",
    "    results.append(mu)\n",
    "    results.append(std)\n",
    "    return results\n",
    "\n",
    "pos_features_pdf = maximumLikelihood(train_dataset.pos[:, FOI])\n",
    "neg_features_pdf = maximumLikelihood(train_dataset.neg[:, FOI])\n"
   ]
  },
  {
   "cell_type": "markdown",
   "metadata": {},
   "source": [
    "Ze získaných parametrů vytvořte `scipy`ovská gaussovská rozložení `scipy.stats.norm`.\n",
    "S využitím jejich metody `.pdf()` vytvořte graf, v němž srovnáte skutečné a modelové rozložení pozitivních a negativních příkladů.\n",
    "Rozsah x-ové osy volte od -0.5 do 1.5 (využijte `np.linspace`) a u volání `plt.hist()` nezapomeňte nastavit `density=True`, aby byl histogram normalizovaný a dal se srovnávat s modelem.\n",
    "\n",
    "**(2+8 řádků, 1 bod)**"
   ]
  },
  {
   "cell_type": "code",
   "execution_count": 12,
   "metadata": {},
   "outputs": [
    {
     "data": {
      "image/png": "[encoded data removed]",
      "text/plain": [
       "<Figure size 360x360 with 1 Axes>"
      ]
     },
     "metadata": {
      "needs_background": "light"
     },
     "output_type": "display_data"
    }
   ],
   "source": [
    "def plotPdf(poss, negs, poss_features, negs_features):\n",
    "    p_poss = scipy.stats.norm.pdf(poss, poss_features[0], poss_features[1])\n",
    "    p_negs = scipy.stats.norm.pdf(negs, negs_features[0], negs_features[1])\n",
    "    \n",
    "    figure = plt.figure(figsize=(5, 5))\n",
    "    graph_plot = figure.add_subplot(1,1,1)\n",
    "    graph_plot.hist(p_poss,bins=np.linspace(-0.5,1,5), histtype='step',  density=True, color = \"skyblue\", label=\"pdf model of positive data\")\n",
    "    graph_plot.hist(p_negs,bins=np.linspace(-0.5,1,5), histtype='step', density=True, color = \"lightcoral\", label=\"pdf model of negative data\")\n",
    "    graph_plot.legend(prop={'size': 10})\n",
    "    #graph_plot.set_xlim([-0.5,1.5])\n",
    "\n",
    "plotPdf(train_dataset.pos[:, FOI], train_dataset.neg[:, FOI], pos_features_pdf, neg_features_pdf)"
   ]
  },
  {
   "cell_type": "markdown",
   "metadata": {},
   "source": [
    "Naimplementujte binární generativní klasifikátor. \n",
    "Při konstrukci přijímá dvě rozložení poskytující metodu `.pdf()` a odpovídající apriorní pravděpodobnost tříd.\n",
    "Jako všechny klasifikátory v této domácí úloze poskytuje metodu `prob_class_1()`.\n",
    "\n",
    "**(9 řádků, 2 body)**"
   ]
  },
  {
   "cell_type": "code",
   "execution_count": 39,
   "metadata": {},
   "outputs": [
    {
     "name": "stdout",
     "output_type": "stream",
     "text": [
      "0.75\n"
     ]
    }
   ],
   "source": [
    "def evaluate(classifier, poss_features, negs_features, val_dataset, targets):\n",
    "    results = classifier.prob_class_1(poss_features, negs_features, val_dataset, targets)\n",
    "    return results\n",
    "    \n",
    "\n",
    "class BinaryClassifier:\n",
    "    def __init__(self, class_type):\n",
    "        self.class_type = class_type\n",
    "        \n",
    "    def prob_class_1(self, poss_features, negs_features, val_dataset, targets):\n",
    "        predicted_classes = list()\n",
    "        results = list()\n",
    "        for x in val_dataset:\n",
    "            #x_float = float(x)\n",
    "            if (self.class_type == \"normal\"):\n",
    "                poss_probability = scipy.stats.norm(poss_features[0], poss_features[1]).pdf(x) * 0.5\n",
    "                negs_probability = scipy.stats.norm(negs_features[0], negs_features[1]).pdf(x) * 0.5\n",
    "                \n",
    "            elif (self.class_type == \"aprior\"):\n",
    "                poss_probability = scipy.stats.norm(poss_features[0], poss_features[1]).pdf(x) * 0.25\n",
    "                negs_probability = scipy.stats.norm(negs_features[0], negs_features[1]).pdf(x) * 0.75\n",
    "\n",
    "            if (poss_probability > negs_probability):\n",
    "                predicted_class = 1\n",
    "            else:\n",
    "                predicted_class = 0\n",
    "                \n",
    "            predicted_classes.append(predicted_class)\n",
    "        \n",
    "        #print(predicted_classes)\n",
    "        matches = np.where(predicted_class==targets)\n",
    "        #print(matches)\n",
    "        #print(np.shape(matches))\n",
    "        accuracy = (np.shape(matches)[1] / np.shape(targets)[0]) \n",
    "        accuracy_percent = accuracy * 100\n",
    "        #print(\"Accuracy: \" + str(accuracy_percent) + \" %\")\n",
    "        results.append(predicted_classes)\n",
    "        results.append(accuracy)\n",
    "            \n",
    "        return results\n",
    "\n",
    "classifier = BinaryClassifier(\"normal\")\n",
    "accuracy = evaluate(classifier, pos_features_pdf, neg_features_pdf, val_dataset.xs[:, FOI], val_dataset.targets)[1]\n",
    "print(accuracy)"
   ]
  },
  {
   "cell_type": "markdown",
   "metadata": {},
   "source": [
    "Nainstancujte dva generativní klasifikátory: jeden s rovnoměrnými priory a jeden s apriorní pravděpodobností 0.75 pro třídu 0 (negativní příklady).\n",
    "Pomocí funkce `evaluate()` vyhodnoťte jejich úspěšnost na validačních datech.\n",
    "\n",
    "**(2 řádky, 1 bod)**"
   ]
  },
  {
   "cell_type": "code",
   "execution_count": 45,
   "metadata": {},
   "outputs": [
    {
     "name": "stdout",
     "output_type": "stream",
     "text": [
      "flat: 0.75\n",
      "full: 0.75\n"
     ]
    }
   ],
   "source": [
    "classifier_flat_prior = None\n",
    "classifier_full_prior = None\n",
    "\n",
    "classifier_flat_prior = BinaryClassifier(\"normal\")\n",
    "classifier_full_prior = BinaryClassifier(\"aprior\")\n",
    "\n",
    "print('flat:', evaluate(classifier_flat_prior, pos_features_pdf, neg_features_pdf, val_dataset.xs[:, FOI], val_dataset.targets)[1])\n",
    "print('full:', evaluate(classifier_full_prior, pos_features_pdf, neg_features_pdf, val_dataset.xs[:, FOI], val_dataset.targets)[1])\n",
    "\n",
    "flat_prior_predictions = evaluate(classifier_flat_prior, pos_features_pdf, neg_features_pdf, val_dataset.xs[:, FOI], val_dataset.targets)[0]\n",
    "full_prior_predictions = evaluate(classifier_full_prior, pos_features_pdf, neg_features_pdf, val_dataset.xs[:, FOI], val_dataset.targets)[0]"
   ]
  },
  {
   "cell_type": "markdown",
   "metadata": {},
   "source": [
    "Vykreslete průběh posteriorní pravděpodobnosti třídy 1 jako funkci příznaku 5 pro oba klasifikátory, opět v rozsahu <-0.5; 1.5>.\n",
    "Do grafu zakreslete i histogramy rozložení trénovacích dat, opět s `density=True` pro zachování dynamického rozsahu.\n",
    "\n",
    "**(8 řádků, 1 bod)**"
   ]
  },
  {
   "cell_type": "code",
   "execution_count": 47,
   "metadata": {},
   "outputs": [
    {
     "data": {
      "text/plain": [
       "Text(0.5, 1.0, 'Histogram for Full Prior Classifier')"
      ]
     },
     "execution_count": 47,
     "metadata": {},
     "output_type": "execute_result"
    },
    {
     "data": {
      "image/png": "[encoded data removed]",
      "text/plain": [
       "<Figure size 1080x1080 with 2 Axes>"
      ]
     },
     "metadata": {
      "needs_background": "light"
     },
     "output_type": "display_data"
    }
   ],
   "source": [
    "def getPointsToPlot(all_points, all_predictions):\n",
    "    points_to_plot = list()\n",
    "    all_points = all_points.tolist()\n",
    "    for point in all_points:\n",
    "        for prediction in all_predictions:\n",
    "            if (all_points.index(point) == all_predictions.index(prediction)):\n",
    "                if (prediction == 1):\n",
    "                    points_to_plot.append(point)\n",
    "    return points_to_plot\n",
    "\n",
    "p_poss = scipy.stats.norm.pdf(train_dataset.pos[:, FOI], pos_features_pdf[0], pos_features_pdf[1])\n",
    "p_negs = scipy.stats.norm.pdf(train_dataset.neg[:, FOI], neg_features_pdf[0], neg_features_pdf[1])\n",
    "\n",
    "points_to_plot_flat = getPointsToPlot(val_dataset.xs[:, FOI], flat_prior_predictions)\n",
    "points_to_plot_full = getPointsToPlot(val_dataset.xs[:, FOI], full_prior_predictions)\n",
    "            \n",
    "figure = plt.figure(figsize=(15, 15))\n",
    "\n",
    "graph_plot_flat = figure.add_subplot(1,2,1)\n",
    "graph_plot_flat.hist([points_to_plot_flat, p_poss, p_negs] ,bins=np.linspace(-0.5,1,5), density=True, color =[\"navy\",\"skyblue\",\"lightcoral\"] , label=[\"prediction of positive class\", \"pdf model of positive data\", \"pdf model of negative data\"])\n",
    "graph_plot_flat.legend(prop={'size': 10})\n",
    "graph_plot_flat.set_title(\"Histogram for Flat Prior Classifier\", fontsize=10)\n",
    "\n",
    "graph_plot_full = figure.add_subplot(1,2,2)\n",
    "graph_plot_full.hist([points_to_plot_full, p_poss, p_negs] ,bins=np.linspace(-0.5,1,5), density=True, color =[\"navy\",\"skyblue\",\"lightcoral\"] , label=[\"prediction of positive class\", \"pdf model of positive data\", \"pdf model of negative data\"])\n",
    "graph_plot_full.legend(prop={'size': 10})\n",
    "graph_plot_full.set_title(\"Histogram for Full Prior Classifier\", fontsize=10)\n",
    "\n",
    "\n",
    "\n"
   ]
  },
  {
   "cell_type": "markdown",
   "metadata": {},
   "source": [
    "Interpretujte, přímo v této textové buňce, každou rozhodovací hranici, která je v grafu patrná **(3 věty, 2 body)**:"
   ]
  },
  {
   "cell_type": "markdown",
   "metadata": {},
   "source": [
    "# Diskriminativní klasifikátory\n",
    "V následující části budete přímo modelovat posteriorní pravděpodobnost třídy 1.\n",
    "Modely budou založeny na PyTorchi, ten si prosím nainstalujte.\n",
    "GPU rozhodně nepotřebujete, veškeré výpočty budou velmi rychlé, ne-li bleskové.\n",
    "\n",
    "Do začátku máte poskytnutou třídu klasifikátoru z jednoho příznaku."
   ]
  },
  {
   "cell_type": "code",
   "execution_count": null,
   "metadata": {},
   "outputs": [],
   "source": [
    "import torch\n",
    "import torch.nn.functional as F\n",
    "\n",
    "class LogisticRegression(torch.nn.Module):\n",
    "    def __init__(self):\n",
    "        super().__init__()\n",
    "        self.w = torch.nn.parameter.Parameter(torch.tensor([1.0]))\n",
    "        self.b = torch.nn.parameter.Parameter(torch.tensor([0.0]))\n",
    "        \n",
    "    def forward(self, x):\n",
    "        return torch.sigmoid(self.w*x + self.b)\n",
    "    \n",
    "    def prob_class_1(self, x):\n",
    "        prob = self(torch.from_numpy(x))\n",
    "        return prob.detach().numpy()"
   ]
  },
  {
   "cell_type": "markdown",
   "metadata": {},
   "source": [
    "Pro trénovaní diskriminativních modelů budete potřebovat minibatche.\n",
    "Implementujte funkci, která je bude z daných vstupních a cílových hodnot vytvářet.\n",
    "Výsledkem musí být možno iterovat, ideálně funkci napište jako generátor (využijte klíčové slovo `yield`).\n",
    "Jednotlivé prvky výstupu budou dvojice PyTorchových `FloatTensor`ů (musíte zkonvertovat z numpy a nastavit typ) -- první prvek vstupní data, druhý očekávané výstupy.\n",
    "Počítejte s tím, že vstup bude `numpy`ovské pole, rozumná implementace využije `np.random.permutation()` a [Advanced Indexing](https://numpy.org/doc/stable/reference/arrays.indexing.html).\n",
    "\n",
    "Připravený kód funkci použije na konstrukci tří minibatchí pro trénování identity, měli byste vidět celkem pět prvků náhodně uspořádaných do dvojic, ovšem s tím, že s sebou budou mít odpovídající výstupy.\n",
    "\n",
    "**(6 řádků, 2 body)**"
   ]
  },
  {
   "cell_type": "code",
   "execution_count": null,
   "metadata": {},
   "outputs": [],
   "source": [
    "def batch_provider(xs, targets, batch_size=10):\n",
    "    pass\n",
    "\n",
    "inputs = np.asarray([1.0, 2.0, 3.0, 4.0, 5.0])\n",
    "targets = np.asarray([1.0, 2.0, 3.0, 4.0, 5.0])\n",
    "for x, t in batch_provider(inputs, targets, 2):\n",
    "    print(f'x: {x}, t: {t}')"
   ]
  },
  {
   "cell_type": "markdown",
   "metadata": {},
   "source": [
    "Dalším krokem je implementovat funkci, která model vytvoří a natrénuje.\n",
    "Jejím výstupem bude (1) natrénovaný model, (2) průběh trénovací loss a (3) průběh validační přesnosti.\n",
    "Jako model vracejte ten, který dosáhne nejlepší validační přesnosti.\n",
    "Jako loss použijte binární cross-entropii (`F.binary_cross_entropy()`), akumulujte ji přes minibatche a logujte průměr.\n",
    "Pro výpočet validační přesnosti využijte funkci `evaluate()`.\n",
    "Oba průběhy vracejte jako obyčejné seznamy.\n",
    "\n",
    "V implementaci budete potřebovat dvě zanořené smyčky: jednu pro epochy (průchody přes celý dataset) a uvnitř druhou, která bude iterovat přes jednotlivé minibatche.\n",
    "Na konci každé epochy vyhodnoťte model na validačních datech.\n",
    "K datasetům (trénovacímu a validačnímu) přistupujte bezostyšně jako ke globálním proměnným.\n",
    "\n",
    "**(cca 14 řádků, 3 body)**"
   ]
  },
  {
   "cell_type": "code",
   "execution_count": null,
   "metadata": {},
   "outputs": [],
   "source": [
    "def train_single_fea_llr(fea_no, nb_epochs, lr, batch_size):\n",
    "    ''' fea_no -- which feature to train on\n",
    "        nb_epochs -- how many times to go through the full training data\n",
    "        lr -- learning rate\n",
    "        batch_size -- size of minibatches\n",
    "    '''\n",
    "    model = LogisticRegression()\n",
    "    best_model = copy.deepcopy(model)\n",
    "    losses = []\n",
    "    accuracies = []\n",
    "    optimizer = torch.optim.SGD(model.parameters(), lr=lr)\n",
    "       \n",
    "    pass\n",
    "        \n",
    "    return best_model, losses, accuracies"
   ]
  },
  {
   "cell_type": "markdown",
   "metadata": {},
   "source": [
    "Funkci zavolejte a natrénujte model.\n",
    "Uveďte zde parametry, které vám dají slušný výsledek.\n",
    "Měli byste dostat přesnost srovnatelnou s generativním klasifikátorem s nastavenými priory.\n",
    "Neměli byste potřebovat víc než 100 epoch.\n",
    "Vykreslete průběh trénovací loss a validační přesnosti, osu x značte v epochách.\n",
    "\n",
    "V druhém grafu vykreslete histogramy trénovacích dat a pravděpodobnost třídy 1 pro x od -0.5 do 1.5, podobně jako výše u generativních klasifikátorů.\n",
    "Při výpočtu výstupů využijte `with torch.no_grad():`.\n",
    "**(1 + 6 + 9 řádků, 1 bod)**"
   ]
  },
  {
   "cell_type": "code",
   "execution_count": null,
   "metadata": {},
   "outputs": [],
   "source": [
    "pass"
   ]
  },
  {
   "cell_type": "markdown",
   "metadata": {},
   "source": [
    "## Všechny vstupní příznaky\n",
    "V posledním cvičení natrénujete logistickou regresi, která využije všech sedm vstupních příznaků.\n",
    "\n",
    "Prvním krokem je naimplementovat příslusný model.\n",
    "Bezostyšně zkopírujte tělo třídy `LogisticRegresion` a upravte ji tak, aby zvládala libovolný počet vstupů, využijte `torch.nn.Linear`.\n",
    "U výstupu metody `.forward()` dejte pozor, aby měl výstup tvar `[N]`; pravděpodobně budete potřebovat `squeeze`.\n",
    "\n",
    "**(9 řádků, 1 bod)**"
   ]
  },
  {
   "cell_type": "code",
   "execution_count": null,
   "metadata": {},
   "outputs": [],
   "source": [
    "pass"
   ]
  },
  {
   "cell_type": "markdown",
   "metadata": {},
   "source": [
    "Podobně jako u jednodimenzionálni regrese implementujte funkci pro trénovaní plné logistické regrese.\n",
    "V ideálním případě vyfaktorujete společnou implementaci, které budete pouze předávat různá trénovací a validační data.\n",
    "\n",
    "Zvídaví mohou zkusit `Adam`a jako optimalizátor namísto obyčejného `SGD`.\n",
    "\n",
    "Funkci zavolejte, natrénujte model.\n",
    "Opět vykreslete průběh trénovací loss a validační přesnosti.\n",
    "Měli byste se s přesností dostat nad 90 %.\n",
    "\n",
    "**(ne víc než cca 30 řádků při kopírování, 1 bod)**"
   ]
  },
  {
   "cell_type": "code",
   "execution_count": null,
   "metadata": {},
   "outputs": [],
   "source": [
    "pass"
   ]
  },
  {
   "cell_type": "markdown",
   "metadata": {},
   "source": [
    "# Závěrem\n",
    "Konečně vyhodnoťte všech pět vytvořených klasifikátorů na testovacích datech. Stačí doplnit jejich názvy a předat jim příznaky, na které jsou zvyklé.\n",
    "\n",
    "**(0.5 bodu)**"
   ]
  },
  {
   "cell_type": "code",
   "execution_count": null,
   "metadata": {},
   "outputs": [],
   "source": [
    "xs_full = test_dataset.xs\n",
    "xs_foi = test_dataset.xs[:, FOI]\n",
    "targets = test_dataset.targets\n",
    "\n",
    "print('Baseline:', evaluate(None, None, targets))\n",
    "print('Generative classifier (w/o prior):', evaluate(None, None, targets))\n",
    "print('Generative classifier (correct):', evaluate(None, None, targets))\n",
    "print('Logistic regression:', evaluate(None, None, targets))\n",
    "print('logistic regression all features:', evaluate(None, None, targets))"
   ]
  },
  {
   "cell_type": "markdown",
   "metadata": {},
   "source": [
    "Blahopřejeme ke zvládnutí domácí úlohy! Notebook spusťte načisto (Kernel -> Restart & Run all), vyexportuje jako PDF a odevzdejte pojmenovaný svým loginem.\n",
    "\n",
    "Mimochodem, vstupní data nejsou synteticky generovaná. Nasbírali jsme je z projektu; Vaše klasifikátory v této domácí úloze predikují, že daný hráč vyhraje; takže by se daly použít jako heuristika pro ohodnocování listových uzlů ve stavovém prostoru hry.\n",
    "Pro představu, odhadujete to z pozic pět kol před koncem partie pro daného hráče.\n",
    "Poskytnuté příznaky popisují globální charakteristiky stavu hry jako je například poměr délky hranic předmětného hráče k ostatním hranicím."
   ]
  },
  {
   "cell_type": "code",
   "execution_count": null,
   "metadata": {},
   "outputs": [],
   "source": []
  }
 ],
 "metadata": {
  "kernelspec": {
   "display_name": "Python 3",
   "language": "python",
   "name": "python3"
  },
  "language_info": {
   "codemirror_mode": {
    "name": "ipython",
    "version": 3
   },
   "file_extension": ".py",
   "mimetype": "text/x-python",
   "name": "python",
   "nbconvert_exporter": "python",
   "pygments_lexer": "ipython3",
   "version": "3.6.9"
  }
 },
 "nbformat": 4,
 "nbformat_minor": 4
}
